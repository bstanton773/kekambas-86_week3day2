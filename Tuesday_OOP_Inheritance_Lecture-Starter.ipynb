{
 "cells": [
  {
   "cell_type": "markdown",
   "metadata": {},
   "source": [
    "# Object-Oriented-Programming (OOP)"
   ]
  },
  {
   "cell_type": "markdown",
   "metadata": {},
   "source": [
    "## Tasks Today:\n",
    "\n",
    "   \n",
    "1) <b>Dunder Methods</b> <br>\n",
    " &nbsp;&nbsp;&nbsp;&nbsp; a) The \\__str\\__() Method <br>\n",
    " &nbsp;&nbsp;&nbsp;&nbsp; b) The \\__repr\\__() Method <br>\n",
    " &nbsp;&nbsp;&nbsp;&nbsp; c) In-Class Exercise #1 - Create a class Animal that displays the species and animal name when printed <br>  \n",
    "2) <b>Inheritance</b> <br>\n",
    " &nbsp;&nbsp;&nbsp;&nbsp; a) Syntax for Inheriting from a Parent Class <br>\n",
    " &nbsp;&nbsp;&nbsp;&nbsp; b) The \\__init\\__() Method for a Child Class (super()) <br>\n",
    " &nbsp;&nbsp;&nbsp;&nbsp; c) Defining Attributes and Methods for the Child Class <br>\n",
    " &nbsp;&nbsp;&nbsp;&nbsp; d) Method Overriding <br>\n",
    " &nbsp;&nbsp;&nbsp;&nbsp; e) In-Class Exercise #2 - Create a class 'Ford' that inherits from 'Car' class and initialize it as a Blue Ford Explorer with 4 wheels using the super() method <br>\n",
    "3) <b>Modules</b> <br>\n",
    " &nbsp;&nbsp;&nbsp;&nbsp; a) Importing Modules<br>\n",
    " &nbsp;&nbsp;&nbsp;&nbsp; b) Importing from modules <br>\n",
    " &nbsp;&nbsp;&nbsp;&nbsp; c) Aliasing <br>\n",
    " &nbsp;&nbsp;&nbsp;&nbsp; d) Creating Modules <br>\n",
    " &nbsp;&nbsp;&nbsp;&nbsp; e) In-Class Exercise #2 - Create a class 'Ford' <br>\n"
   ]
  },
  {
   "cell_type": "markdown",
   "metadata": {},
   "source": [
    "### Warm Up"
   ]
  },
  {
   "cell_type": "markdown",
   "metadata": {},
   "source": [
    "Create two classes: one for a user that includes username, email, and password. Another for posts that has a title, body, and author. The author should be an instance of user."
   ]
  },
  {
   "cell_type": "code",
   "execution_count": 11,
   "metadata": {},
   "outputs": [
    {
     "name": "stdout",
     "output_type": "stream",
     "text": [
      "abc\n",
      "cba\n"
     ]
    }
   ],
   "source": [
    "class User:\n",
    "    def __init__(self, user_id, username, email, password):\n",
    "        self.id = user_id\n",
    "        self.username = username\n",
    "        self.email = email\n",
    "        self.password = password\n",
    "        \n",
    "    def __str__(self):\n",
    "        return self.username\n",
    "    \n",
    "    def __repr__(self):\n",
    "        return f\"<User {self.id} | {self.username}>\"\n",
    "    \n",
    "    \n",
    "user1 = User(1, 'abc', 'abc@abc.com', 'abc')\n",
    "user2 = User(2, 'cba', 'cba@cba.com', 'cba')\n",
    "\n",
    "users = [user1, user2]\n",
    "\n",
    "for user in users:\n",
    "    print(user)"
   ]
  },
  {
   "cell_type": "code",
   "execution_count": 12,
   "metadata": {},
   "outputs": [
    {
     "data": {
      "text/plain": [
       "[<User 1 | abc>, <User 2 | cba>]"
      ]
     },
     "execution_count": 12,
     "metadata": {},
     "output_type": "execute_result"
    }
   ],
   "source": [
    "users"
   ]
  },
  {
   "cell_type": "markdown",
   "metadata": {},
   "source": [
    "## Dunder Methods"
   ]
  },
  {
   "cell_type": "markdown",
   "metadata": {},
   "source": [
    "#### \\__str\\__()"
   ]
  },
  {
   "cell_type": "code",
   "execution_count": 13,
   "metadata": {},
   "outputs": [
    {
     "name": "stdout",
     "output_type": "stream",
     "text": [
      "Red Toyota Camry\n",
      "Blue Ford Focus\n"
     ]
    }
   ],
   "source": [
    "# The method that is executed when print() is called on your object\n",
    "\n",
    "class Car:\n",
    "    def __init__(self, color, make, model):\n",
    "        self.color = color\n",
    "        self.make = make\n",
    "        self.model = model\n",
    "        \n",
    "    def __str__(self):\n",
    "        return f\"{self.color.title()} {self.make.title()} {self.model.title()}\"\n",
    "        \n",
    "        \n",
    "car1 = Car('red', 'Toyota', 'Camry')\n",
    "car2 = Car('blue', 'Ford', 'Focus')\n",
    "\n",
    "print(car1)\n",
    "print(car2)"
   ]
  },
  {
   "cell_type": "code",
   "execution_count": 14,
   "metadata": {},
   "outputs": [
    {
     "name": "stdout",
     "output_type": "stream",
     "text": [
      "Red Toyota Camry\n"
     ]
    }
   ],
   "source": [
    "print(car1)"
   ]
  },
  {
   "cell_type": "code",
   "execution_count": 15,
   "metadata": {},
   "outputs": [
    {
     "data": {
      "text/plain": [
       "<__main__.Car at 0x180c66673a0>"
      ]
     },
     "execution_count": 15,
     "metadata": {},
     "output_type": "execute_result"
    }
   ],
   "source": [
    "car1"
   ]
  },
  {
   "cell_type": "markdown",
   "metadata": {},
   "source": [
    "#### \\__repr\\__()"
   ]
  },
  {
   "cell_type": "code",
   "execution_count": 17,
   "metadata": {
    "scrolled": true
   },
   "outputs": [
    {
     "name": "stdout",
     "output_type": "stream",
     "text": [
      "Red Toyota Camry\n",
      "Blue Ford Focus\n"
     ]
    }
   ],
   "source": [
    "class Car:\n",
    "    def __init__(self, color, make, model):\n",
    "        self.color = color\n",
    "        self.make = make\n",
    "        self.model = model\n",
    "        \n",
    "    def __str__(self):\n",
    "        return f\"{self.color.title()} {self.make.title()} {self.model.title()}\"\n",
    "    \n",
    "    def __repr__(self):\n",
    "        return f\"<Car | {self.make} {self.model}>\"\n",
    "    \n",
    "car1 = Car('red', 'Toyota', 'Camry')\n",
    "car2 = Car('blue', 'Ford', 'Focus')\n",
    "\n",
    "print(car1)\n",
    "print(car2)"
   ]
  },
  {
   "cell_type": "code",
   "execution_count": 18,
   "metadata": {},
   "outputs": [
    {
     "data": {
      "text/plain": [
       "<Car | Toyota Camry>"
      ]
     },
     "execution_count": 18,
     "metadata": {},
     "output_type": "execute_result"
    }
   ],
   "source": [
    "car1"
   ]
  },
  {
   "cell_type": "code",
   "execution_count": 19,
   "metadata": {},
   "outputs": [
    {
     "data": {
      "text/plain": [
       "<Car | Ford Focus>"
      ]
     },
     "execution_count": 19,
     "metadata": {},
     "output_type": "execute_result"
    }
   ],
   "source": [
    "car2"
   ]
  },
  {
   "cell_type": "code",
   "execution_count": 22,
   "metadata": {},
   "outputs": [
    {
     "name": "stdout",
     "output_type": "stream",
     "text": [
      "Blue Ford Focus\n"
     ]
    }
   ],
   "source": [
    "print(car2)"
   ]
  },
  {
   "cell_type": "markdown",
   "metadata": {},
   "source": [
    "#### \\__lt__, \\__le__, \\__eq__, etc."
   ]
  },
  {
   "cell_type": "code",
   "execution_count": 66,
   "metadata": {},
   "outputs": [
    {
     "name": "stdout",
     "output_type": "stream",
     "text": [
      "Markers are cheaper than the eraser\n"
     ]
    }
   ],
   "source": [
    "class Item:\n",
    "    def __init__(self, name, price, quantity):\n",
    "        self.name = name\n",
    "        self.price = price\n",
    "        self.quantity = quantity\n",
    "        \n",
    "    def __str__(self):\n",
    "        return f\"{self.name}: {self.price} x {self.quantity}\"\n",
    "    \n",
    "    def __repr__(self):\n",
    "        return f\"<Item | {self.name}>\"\n",
    "    \n",
    "    def __lt__(self, other_item):\n",
    "        return self.price < other_item.price\n",
    "    \n",
    "    def __le__(self, other_item):\n",
    "        return self.price <= other_item.price\n",
    "    \n",
    "    def __eq__(self, other_item):\n",
    "        return self.price == other_item.price\n",
    "    \n",
    "    def __add__(self, value_to_add):\n",
    "        self.quantity += value_to_add\n",
    "        return self\n",
    "    \n",
    "    def __sub__(self, value_to_subtract):\n",
    "        self.quantity -= value_to_subtract\n",
    "        return self\n",
    "    \n",
    "item1 = Item('Marker', 1.49, 2)\n",
    "item2 = Item('Eraser', 1.49, 1)\n",
    "\n",
    "if item1 <= item2:\n",
    "    print('Markers are cheaper than the eraser')"
   ]
  },
  {
   "cell_type": "code",
   "execution_count": 67,
   "metadata": {},
   "outputs": [
    {
     "name": "stdout",
     "output_type": "stream",
     "text": [
      "Marker: 1.49 x 2\n",
      "Marker: 1.49 x 5\n"
     ]
    }
   ],
   "source": [
    "print(item1)\n",
    "item1 += 3\n",
    "print(item1)"
   ]
  },
  {
   "cell_type": "code",
   "execution_count": 68,
   "metadata": {},
   "outputs": [
    {
     "name": "stdout",
     "output_type": "stream",
     "text": [
      "Marker: 1.49 x 5\n",
      "Marker: 1.49 x 3\n"
     ]
    }
   ],
   "source": [
    "print(item1)\n",
    "item1 -= 2\n",
    "print(item1)"
   ]
  },
  {
   "cell_type": "code",
   "execution_count": 76,
   "metadata": {},
   "outputs": [
    {
     "name": "stdout",
     "output_type": "stream",
     "text": [
      "2\n"
     ]
    },
    {
     "data": {
      "text/plain": [
       "True"
      ]
     },
     "execution_count": 76,
     "metadata": {},
     "output_type": "execute_result"
    }
   ],
   "source": [
    "class Cart:\n",
    "    def __init__(self):\n",
    "        self.cart = []\n",
    "        \n",
    "    def add_to_cart(self, item):\n",
    "        if item\n",
    "        self.cart.append(item)\n",
    "        \n",
    "    def __len__(self):\n",
    "        return len(self.cart)\n",
    "    \n",
    "    def __contains__(self, item_name):\n",
    "        for item in self.cart:\n",
    "            if item.name.lower() == item_name.lower():\n",
    "                return True\n",
    "        return False\n",
    "    \n",
    "\n",
    "my_cart = Cart()\n",
    "\n",
    "my_cart.add_to_cart(item1)\n",
    "my_cart.add_to_cart(item2)\n",
    "\n",
    "print(len(my_cart))\n",
    "\n",
    "\n",
    "'MARKER' in my_cart"
   ]
  },
  {
   "cell_type": "markdown",
   "metadata": {},
   "source": [
    "#### In-class Exercise 1"
   ]
  },
  {
   "cell_type": "code",
   "execution_count": null,
   "metadata": {},
   "outputs": [],
   "source": [
    "# Create a class Animal that displays the name and species when printed\n",
    "\n",
    "\n",
    "\n"
   ]
  },
  {
   "cell_type": "markdown",
   "metadata": {},
   "source": [
    "## Inheritance <br>\n",
    "<p>You can create a child-parent relationship between two classes by using inheritance. What this allows you to do is have overriding methods, but also inherit traits from the parent class. Think of it as an actual parent and child, the child will inherit the parent's genes, as will the classes in OOP</p>"
   ]
  },
  {
   "cell_type": "markdown",
   "metadata": {},
   "source": [
    "##### Syntax for Inheriting from a Parent Class"
   ]
  },
  {
   "cell_type": "code",
   "execution_count": null,
   "metadata": {},
   "outputs": [],
   "source": []
  },
  {
   "cell_type": "code",
   "execution_count": null,
   "metadata": {},
   "outputs": [],
   "source": []
  },
  {
   "cell_type": "markdown",
   "metadata": {},
   "source": [
    "##### The \\__init\\__() Method for a Child Class - super()"
   ]
  },
  {
   "cell_type": "code",
   "execution_count": null,
   "metadata": {
    "scrolled": true
   },
   "outputs": [],
   "source": []
  },
  {
   "cell_type": "code",
   "execution_count": null,
   "metadata": {},
   "outputs": [],
   "source": []
  },
  {
   "cell_type": "code",
   "execution_count": null,
   "metadata": {
    "scrolled": true
   },
   "outputs": [],
   "source": []
  },
  {
   "cell_type": "code",
   "execution_count": null,
   "metadata": {},
   "outputs": [],
   "source": []
  },
  {
   "cell_type": "markdown",
   "metadata": {},
   "source": [
    "#### In-class Exercise 2"
   ]
  },
  {
   "cell_type": "markdown",
   "metadata": {},
   "source": [
    "Create a Car class that has a drive and fill up method, and then create a Ford class that inherits from the car class."
   ]
  },
  {
   "cell_type": "code",
   "execution_count": null,
   "metadata": {},
   "outputs": [],
   "source": []
  },
  {
   "cell_type": "markdown",
   "metadata": {},
   "source": [
    "## Modules"
   ]
  },
  {
   "cell_type": "markdown",
   "metadata": {},
   "source": [
    "##### Importing Entire Modules"
   ]
  },
  {
   "cell_type": "code",
   "execution_count": null,
   "metadata": {},
   "outputs": [],
   "source": []
  },
  {
   "cell_type": "markdown",
   "metadata": {},
   "source": [
    "##### Importing Methods Only"
   ]
  },
  {
   "cell_type": "code",
   "execution_count": null,
   "metadata": {},
   "outputs": [],
   "source": []
  },
  {
   "cell_type": "markdown",
   "metadata": {},
   "source": [
    "##### Using the 'as' Keyword"
   ]
  },
  {
   "cell_type": "code",
   "execution_count": null,
   "metadata": {},
   "outputs": [],
   "source": []
  },
  {
   "cell_type": "markdown",
   "metadata": {},
   "source": [
    "##### Creating a Module"
   ]
  },
  {
   "cell_type": "code",
   "execution_count": null,
   "metadata": {},
   "outputs": [],
   "source": [
    "# Using VS Code"
   ]
  }
 ],
 "metadata": {
  "kernelspec": {
   "display_name": "Python 3",
   "language": "python",
   "name": "python3"
  },
  "language_info": {
   "codemirror_mode": {
    "name": "ipython",
    "version": 3
   },
   "file_extension": ".py",
   "mimetype": "text/x-python",
   "name": "python",
   "nbconvert_exporter": "python",
   "pygments_lexer": "ipython3",
   "version": "3.8.5"
  }
 },
 "nbformat": 4,
 "nbformat_minor": 2
}
