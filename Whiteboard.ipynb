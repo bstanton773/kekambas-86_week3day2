{
 "cells": [
  {
   "cell_type": "code",
   "execution_count": 4,
   "metadata": {},
   "outputs": [
    {
     "name": "stdout",
     "output_type": "stream",
     "text": [
      "True\n",
      "False\n"
     ]
    }
   ],
   "source": [
    "#Given two strings, return true if they are anagrams of each other, and false otherwise.\n",
    "#An anagram is a word, phrase, or name formed by rearranging the letters of another.\n",
    "s1 = \"anagram\"\n",
    "t1 = \"nagaram\"\n",
    "# Output:\n",
    "# True\n",
    "s2 = \"rat\"\n",
    "t2 = \"car\"\n",
    "#Output:\n",
    "# False\n",
    "\n",
    "\n",
    "def is_anagram(string1, string2):\n",
    "    return len(string1) == len(string2) and set(string1) == set(string2)\n",
    "\n",
    "\n",
    "print(is_anagram(s1, t1))\n",
    "print(is_anagram(s2, t2))"
   ]
  },
  {
   "cell_type": "code",
   "execution_count": 5,
   "metadata": {},
   "outputs": [
    {
     "data": {
      "text/plain": [
       "False"
      ]
     },
     "execution_count": 5,
     "metadata": {},
     "output_type": "execute_result"
    }
   ],
   "source": [
    "is_anagram('briannnnnn', 'rianb')"
   ]
  },
  {
   "cell_type": "code",
   "execution_count": null,
   "metadata": {},
   "outputs": [],
   "source": [
    "def is_anagram(s1, s2):\n",
    "    return sorted(s1) == sorted(s2)\n",
    "\n"
   ]
  }
 ],
 "metadata": {
  "kernelspec": {
   "display_name": "Python 3",
   "language": "python",
   "name": "python3"
  },
  "language_info": {
   "codemirror_mode": {
    "name": "ipython",
    "version": 3
   },
   "file_extension": ".py",
   "mimetype": "text/x-python",
   "name": "python",
   "nbconvert_exporter": "python",
   "pygments_lexer": "ipython3",
   "version": "3.8.5"
  }
 },
 "nbformat": 4,
 "nbformat_minor": 4
}
